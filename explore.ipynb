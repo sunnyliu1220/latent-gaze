{
 "cells": [
  {
   "cell_type": "code",
   "execution_count": null,
   "id": "6a160116",
   "metadata": {},
   "outputs": [],
   "source": [
    "# Set MPS fallback to enable operations not supported natively on Apple Silicon\n",
    "import os\n",
    "os.environ['PYTORCH_ENABLE_MPS_FALLBACK'] = '1'\n",
    "\n",
    "import numpy as np\n",
    "import torch\n",
    "import torch.nn as nn\n",
    "\n",
    "import bopt"
   ]
  },
  {
   "cell_type": "markdown",
   "id": "9f57cb1e",
   "metadata": {},
   "source": [
    "# In this notebook, we will sketch out code for shifting stimulus according to eye position on the fly.\n",
    "The rough procedure is as follows:\n",
    "1. Get the current eye position from the eye tracker.\n",
    "2. Adapt the stimulus shifting pipeline to shift the stimulus based on the current eye position.\n",
    "3. Return the shifted stimulus."
   ]
  },
  {
   "cell_type": "code",
   "execution_count": null,
   "id": "3d14bff9",
   "metadata": {},
   "outputs": [],
   "source": []
  }
 ],
 "metadata": {
  "kernelspec": {
   "display_name": "base",
   "language": "python",
   "name": "python3"
  },
  "language_info": {
   "name": "python",
   "version": "3.11.0"
  }
 },
 "nbformat": 4,
 "nbformat_minor": 5
}
